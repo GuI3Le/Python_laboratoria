{
 "cells": [
  {
   "metadata": {},
   "cell_type": "markdown",
   "source": "### Zadanie 8",
   "id": "17d22504922e818b"
  },
  {
   "cell_type": "code",
   "id": "initial_id",
   "metadata": {
    "collapsed": true,
    "ExecuteTime": {
     "end_time": "2024-10-02T08:40:39.812835Z",
     "start_time": "2024-10-02T08:39:52.909923Z"
    }
   },
   "source": [
    "adres_zamieszkania = input(\"Podaj adres zamieszkania: \")\n",
    "kod_pocztowy = input(\"Podaj kod pocztowy: \")\n",
    "miasto = input(\"Podaj miasto: \")\n",
    "print(f\"{adres_zamieszkania},{kod_pocztowy},{miasto}\")\n"
   ],
   "outputs": [
    {
     "name": "stdout",
     "output_type": "stream",
     "text": [
      "Żołnierska,71-117,Szczecin\n"
     ]
    }
   ],
   "execution_count": 1
  },
  {
   "metadata": {},
   "cell_type": "code",
   "outputs": [],
   "execution_count": null,
   "source": "",
   "id": "6877a33cc0f4fa1e"
  }
 ],
 "metadata": {
  "kernelspec": {
   "display_name": "Python 3",
   "language": "python",
   "name": "python3"
  },
  "language_info": {
   "codemirror_mode": {
    "name": "ipython",
    "version": 2
   },
   "file_extension": ".py",
   "mimetype": "text/x-python",
   "name": "python",
   "nbconvert_exporter": "python",
   "pygments_lexer": "ipython2",
   "version": "2.7.6"
  }
 },
 "nbformat": 4,
 "nbformat_minor": 5
}
